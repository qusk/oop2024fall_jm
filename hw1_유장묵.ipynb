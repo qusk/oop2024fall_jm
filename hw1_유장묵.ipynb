{
 "cells": [
  {
   "cell_type": "markdown",
   "id": "49b2bb3f-8a94-4aba-bf67-6b97d86c0047",
   "metadata": {},
   "source": [
    "# OOP (2024 Fall) HW1: 불변 순서쌍을 활용해 가변 순서쌍 만들기 \n",
    "- 이름: 유장묵\n",
    "- 학번: 20210522\n",
    "\n",
    "여기 홍길동, 99999999 대신 본인의 이름, 학번 작성"
   ]
  },
  {
   "cell_type": "markdown",
   "id": "9c3c24aa-19ac-4c88-a228-0d1686034a24",
   "metadata": {},
   "source": [
    "-----\n",
    "## Part A: 불변 순서쌍 Pair\n",
    "1. 클래스(또는 정적) 팩토리 메소드 `of`를 를 수정하여 완성하라.\n",
    "    - https://velog.io/@cjh8746/%EC%A0%95%EC%A0%81-%ED%8C%A9%ED%86%A0%EB%A6%AC-%EB%A9%94%EC%84%9C%EB%93%9CStatic-Factory-Method\n",
    "1. 주석 부분을 풀어 제너릭 클래스인 `Pair`가 제너릭 인터페이스 `Comparable`를 구현하도록 완성하라.\n",
    "    - https://docs.oracle.com/en/java/javase/22/docs/api/java.base/java/lang/Comparable.html"
   ]
  },
  {
   "cell_type": "code",
   "execution_count": 1,
   "id": "f2b4bcb7-9d9c-494a-9762-ca0700c6f762",
   "metadata": {},
   "outputs": [],
   "source": [
    "record Pair<F extends Comparable<F>, S extends Comparable<S>>(F first, S second)  implements Comparable<Pair<F,S>>  {\n",
    "    \n",
    "    // 아래 팩토리 메소드 of가 컴파일되지 않고 있으니 컴파일되도록 수정하라 (힌트: 제너릭 메소드)\n",
    "    static <F extends Comparable<F>, S extends Comparable<S>> Pair<F, S> of (F first, S second) {\n",
    "        return new Pair<> (first, second);\n",
    "    }\n",
    "    \n",
    "    // 사전순이 되도록 정의하기. 즉 first가 더 큰 쪽이 더 크고, first가 같으면 second를 비교\n",
    "    @Override\n",
    "    public int compareTo(Pair<F, S> other) {\n",
    "        int comparison = this.first.compareTo(other.first);\n",
    "\n",
    "        if(comparison != 0)\n",
    "            return comparison;\n",
    "        else {\n",
    "            return this.second.compareTo(other.second);\n",
    "        }        \n",
    "    }\n",
    "}\n",
    "Pair<Integer, Integer> pair1 = Pair.of(1,2);\n",
    "Pair<Integer, Integer> pair2 = Pair.of(3,4);\n",
    "Pair<Integer, Integer> pair3 = Pair.of(1,1);\n"
   ]
  },
  {
   "cell_type": "code",
   "execution_count": 2,
   "id": "5fb5b2ac-4ac0-40cc-9f87-1675177e4baa",
   "metadata": {},
   "outputs": [
    {
     "name": "stdout",
     "output_type": "stream",
     "text": [
      "-1\n",
      "1\n",
      "0\n"
     ]
    }
   ],
   "source": [
    "\n",
    "/* compareTo 가 잘 동작하는지\n",
    "   - 왼쪽이 더 큰 경우\n",
    "   - 왼쪽이 더 작은 경우\n",
    "   - 같은 경우\n",
    "   이런 경우를 각각 포함하도록 이렇게 최소 3개 이상의 테스트를 실행해 보라\n",
    "*/\n",
    "\n",
    "// 대략 이런 식으로 테스트 실행\n",
    "System.out.println( pair1.compareTo(pair2) );\n",
    "System.out.println( pair2.compareTo(pair3) );\n",
    "System.out.println( pair1.compareTo(pair1) );"
   ]
  },
  {
   "cell_type": "markdown",
   "id": "9ca8a54d-4a77-47ed-ba7f-4b360b643577",
   "metadata": {},
   "source": [
    "Part B: 가변 순서쌍 ModifiablePair\n",
    "불변 순서쌍만을 priviate 필드로 갖고 있는 가변 순서쌍 제너릭 클래스를 작성하라\n",
    "\n",
    "가변 순서쌍은 불변 순서쌍과 마찬가지 이름의 getter 메소드가 있고 추가로 setter 메소드도 있다.\n",
    "\n",
    "또, 가변 순서쌍도 불변 순서쌍과 마찬가지로 Comparable 제너릭 인터페이스를 구현하라."
   ]
  },
  {
   "cell_type": "markdown",
   "id": "e2774a64-250e-4e89-a536-5a8ed42bb4ce",
   "metadata": {},
   "source": [
    "------"
   ]
  },
  {
   "cell_type": "code",
   "execution_count": 3,
   "id": "38eb649f-d95e-40d8-a33b-658df4ee4a7f",
   "metadata": {},
   "outputs": [],
   "source": [
    "class ModifiablePair< F extends Comparable<F>, S extends Comparable<S>> implements Comparable<ModifiablePair<F,S>> {\n",
    "    private Pair<F,S> pair; // 이 field 말고 다른 field는 추가로 정의하지 말 것!\n",
    "\n",
    "    ModifiablePair(F first, S second) {\n",
    "        this.pair = Pair.<F, S>of(first, second);\n",
    "    }\n",
    "    \n",
    "    // getter들은 pair에게 위임(delegate)하는 방식으로 작성하라\n",
    "    public F first() {\n",
    "        return pair.first();\n",
    "    }\n",
    "    public S second() {\n",
    "        return pair.second();\n",
    "    }\n",
    "    \n",
    "    // setter들은 적절히 정의하라\n",
    "    public void setFirst(F first) {\n",
    "        this.pair = Pair.of(first, this.pair.second());\n",
    "    }\n",
    "    public void setSecond(S second) {\n",
    "        this.pair = Pair.of(this.pair.first(), second);\n",
    "    }\n",
    "\n",
    "    \n",
    "    // compareTo는 pair에게 위임(delegate)하는 방식으로 작성하라\n",
    "    @Override\n",
    "    public int compareTo(ModifiablePair<F,S> other) {\n",
    "        return this.pair.compareTo(other.pair);\n",
    "    }\n",
    "    \n",
    "\n",
    "    @Override\n",
    "    public String toString() { \n",
    "        return pair.toString(); // toString은 그냥 pair에게 위임\n",
    "    }\n",
    "}"
   ]
  },
  {
   "cell_type": "code",
   "execution_count": 4,
   "id": "57af3b33-b9db-43bd-a8e7-5b35d97aaf5e",
   "metadata": {},
   "outputs": [],
   "source": [
    "// ModifiablePair<F,S>의 getter와 setter들이 잘 동작하는지 확인할 수 있는 적절한 테스트 코드 작성하여 실행하라.\n",
    "// 그러니까 `first()`, `second()`, `setFrist(F)`, `setSecond(S)` 메소드를 모두 활용하는 예시 코드를 작성해 실행하라는 말이다."
   ]
  },
  {
   "cell_type": "code",
   "execution_count": 5,
   "id": "0eb4248b-1562-49e7-bf3e-d3271c46cd37",
   "metadata": {},
   "outputs": [
    {
     "name": "stdout",
     "output_type": "stream",
     "text": [
      "3\n",
      "dog\n",
      "\n",
      "\n",
      "8\n",
      "dog\n",
      "\n",
      "\n",
      "8\n",
      "mouse\n"
     ]
    }
   ],
   "source": [
    "ModifiablePair<Integer, String> pair = new ModifiablePair<>(3, \"dog\");\n",
    "\n",
    "System.out.println(pair.first());\n",
    "System.out.println(pair.second());\n",
    "System.out.println(System.lineSeparator());\n",
    "\n",
    "pair.setFirst(8);\n",
    "System.out.println(pair.first());\n",
    "System.out.println(pair.second());\n",
    "System.out.println(System.lineSeparator());\n",
    "\n",
    "pair.setSecond(\"mouse\");\n",
    "System.out.println(pair.first());\n",
    "System.out.println(pair.second());"
   ]
  },
  {
   "cell_type": "code",
   "execution_count": null,
   "id": "d6831a19-9a2a-4814-94e6-366f622a9911",
   "metadata": {},
   "outputs": [],
   "source": []
  },
  {
   "cell_type": "code",
   "execution_count": null,
   "id": "311b48a2-c273-4c67-a9eb-aaf3dd5bf665",
   "metadata": {},
   "outputs": [],
   "source": []
  }
 ],
 "metadata": {
  "kernelspec": {
   "display_name": "Java (rjk 2.1.0)",
   "language": "java",
   "name": "rapaio-jupyter-kernel"
  },
  "language_info": {
   "codemirror_mode": "java",
   "file_extension": ".jshell",
   "mimetype": "text/x-java-source",
   "name": "java",
   "nbconvert_exporter": "script",
   "pygments_lexer": "java",
   "version": "22.0.2+9"
  }
 },
 "nbformat": 4,
 "nbformat_minor": 5
}
